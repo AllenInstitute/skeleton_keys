{
 "cells": [
  {
   "cell_type": "code",
   "execution_count": 2,
   "metadata": {},
   "outputs": [],
   "source": [
    "import json\n",
    "import numpy as np\n",
    "import matplotlib.pyplot as plt\n",
    "from neuron_morphology.swc_io import morphology_from_swc"
   ]
  },
  {
   "cell_type": "markdown",
   "metadata": {},
   "source": [
    "### This notebook will walk through the expected format for surface_and_layers file. This is a required input for generating layer aligned swc files outside of the Allen Institute's IVSCC Protocol\n",
    "\n",
    "The surface and layers file is a json which contians x,y coordinates + resolution, for cortical laye\n",
    "rs, pia and white matter surfaces, and the soma polygon\n",
    "\n",
    "This data is needed to map a cells laminar distribution to an average laminar template."
   ]
  },
  {
   "cell_type": "code",
   "execution_count": 3,
   "metadata": {},
   "outputs": [],
   "source": [
    "# Load an swc file and its corresponding surface and layers json.\n",
    "morphology = morphology_from_swc(\"./4493.swc\")\n",
    "with open(\"./4493.json\",'r') as f:\n",
    "    surface_and_layers = json.load(f)"
   ]
  },
  {
   "cell_type": "code",
   "execution_count": 4,
   "metadata": {},
   "outputs": [
    {
     "data": {
      "text/plain": [
       "dict_keys(['layer_polygons', 'pia_path', 'soma_path', 'wm_path'])"
      ]
     },
     "execution_count": 4,
     "metadata": {},
     "output_type": "execute_result"
    }
   ],
   "source": [
    "surface_and_layers.keys()"
   ]
  },
  {
   "cell_type": "code",
   "execution_count": 5,
   "metadata": {
    "scrolled": true
   },
   "outputs": [
    {
     "data": {
      "text/plain": [
       "[{'name': 'Layer6a',\n",
       "  'path': [[402.776, 956.5],\n",
       "   [508.56, 933.504],\n",
       "   [587.524, 917.712],\n",
       "   [788.136, 882.5],\n",
       "   [914.32, 864.0600000000001],\n",
       "   [1021.828, 848.352],\n",
       "   [1189.364, 838.748],\n",
       "   [1186.068, 988.556],\n",
       "   [1023.696, 996.224],\n",
       "   [836.236, 1010.16],\n",
       "   [683.616, 1024.796],\n",
       "   [548.424, 1040.128],\n",
       "   [422.984, 1054.76]],\n",
       "  'resolution': 1},\n",
       " {'name': 'Layer6b',\n",
       "  'path': [[421.824, 1059.276],\n",
       "   [547.056, 1046.32],\n",
       "   [686.3240000000001, 1029.048],\n",
       "   [832.956, 1013.7520000000001],\n",
       "   [1024.384, 999.552],\n",
       "   [1185.032, 991.136],\n",
       "   [1184.24, 1016.604],\n",
       "   [1038.332, 1022.7040000000001],\n",
       "   [875.26, 1031.7640000000001],\n",
       "   [713.5840000000001, 1047.792],\n",
       "   [635.532, 1056.8600000000001],\n",
       "   [537.968, 1070.092],\n",
       "   [416.016, 1086.1200000000001]],\n",
       "  'resolution': 1},\n",
       " {'name': 'Layer1',\n",
       "  'path': [[372.38, 357.576],\n",
       "   [517.904, 334.42],\n",
       "   [686.264, 321.176],\n",
       "   [785.188, 311.344],\n",
       "   [906.48, 298.588],\n",
       "   [1043.568, 290.116],\n",
       "   [1155.244, 286.264],\n",
       "   [1153.704, 367.904],\n",
       "   [1048.96, 374.064],\n",
       "   [952.688, 380.996],\n",
       "   [847.176, 389.468],\n",
       "   [737.812, 401.02],\n",
       "   [656.944, 408.724],\n",
       "   [549.888, 418.736],\n",
       "   [477.492, 424.896],\n",
       "   [366.588, 428.748]],\n",
       "  'resolution': 1},\n",
       " {'name': 'Layer4',\n",
       "  'path': [[378.432, 708.808],\n",
       "   [452.208, 699.3480000000001],\n",
       "   [591.5600000000001, 681.692],\n",
       "   [758.016, 656.596],\n",
       "   [878.384, 636.42],\n",
       "   [946.82, 624.952],\n",
       "   [1091.696, 609.736],\n",
       "   [1180.984, 603.856],\n",
       "   [1183.032, 664.04],\n",
       "   [1087.184, 670.344],\n",
       "   [985.664, 681.064],\n",
       "   [859.552, 701.24],\n",
       "   [730.916, 715.744],\n",
       "   [630.6560000000001, 728.988],\n",
       "   [561.924, 739.7040000000001],\n",
       "   [377.8, 766.82]],\n",
       "  'resolution': 1},\n",
       " {'name': 'Layer5',\n",
       "  'path': [[377.688, 771.1320000000001],\n",
       "   [460.568, 757.552],\n",
       "   [564.452, 743.952],\n",
       "   [629.948, 733.428],\n",
       "   [731.644, 718.828],\n",
       "   [866.136, 705.004],\n",
       "   [988.852, 687.504],\n",
       "   [1088.508, 677.052],\n",
       "   [1176.08, 670.064],\n",
       "   [1188.808, 832.4],\n",
       "   [1025.088, 842.908],\n",
       "   [855.052, 868.696],\n",
       "   [786.756, 878.452],\n",
       "   [678.044, 898.66],\n",
       "   [586.7520000000001, 913.296],\n",
       "   [402.776, 949.532]],\n",
       "  'resolution': 1},\n",
       " {'name': 'Layer2/3',\n",
       "  'path': [[365.81600000000003, 435.68],\n",
       "   [474.136, 430.62],\n",
       "   [565.292, 421.81600000000003],\n",
       "   [659.696, 414.18],\n",
       "   [747.052, 405.64],\n",
       "   [849.96, 393.04],\n",
       "   [956.54, 384.076],\n",
       "   [1052.828, 378.212],\n",
       "   [1152.164, 372.524],\n",
       "   [1181.432, 598.956],\n",
       "   [1090.968, 606.6560000000001],\n",
       "   [945.94, 621.792],\n",
       "   [758.66, 653.948],\n",
       "   [590.3000000000001, 678.54],\n",
       "   [449.052, 695.568],\n",
       "   [377.168, 703.1320000000001]],\n",
       "  'resolution': 1}]"
      ]
     },
     "execution_count": 5,
     "metadata": {},
     "output_type": "execute_result"
    }
   ],
   "source": [
    "# surface_and_layers['layer_polygons'] is a list of dictionaries, each representing the coordinates path for a single cortical layer\n",
    "surface_and_layers['layer_polygons']"
   ]
  },
  {
   "cell_type": "code",
   "execution_count": 6,
   "metadata": {},
   "outputs": [
    {
     "data": {
      "text/plain": [
       "{'name': None,\n",
       " 'path': [[822.792, 832.192],\n",
       "  [825.08, 832.788],\n",
       "  [827.232, 834.732],\n",
       "  [828.468, 837.0],\n",
       "  [827.9200000000001, 840.684],\n",
       "  [826.432, 842.952],\n",
       "  [822.836, 843.8000000000001],\n",
       "  [820.2040000000001, 842.288],\n",
       "  [818.556, 838.808],\n",
       "  [820.2280000000001, 835.076]],\n",
       " 'resolution': 1,\n",
       " 'center': [823.9748, 838.0319999999999]}"
      ]
     },
     "execution_count": 6,
     "metadata": {},
     "output_type": "execute_result"
    }
   ],
   "source": [
    "# surface_and_layers['pia_path'], surface_and_layers['soma_path'] and surface_and_layers['wm_path'] are each single dictionaries \n",
    "# contianing the polygon path coordinates. the surface_and_layers['soma_path'] has the added key of center, which is the soma centroid\n",
    "surface_and_layers['soma_path']"
   ]
  },
  {
   "cell_type": "markdown",
   "metadata": {},
   "source": [
    "## Visualize surface and layers with raw orientation morphology"
   ]
  },
  {
   "cell_type": "code",
   "execution_count": 7,
   "metadata": {},
   "outputs": [
    {
     "data": {
      "text/plain": [
       "Text(0.5, 1.0, 'Example Morphology With Surface and Layer Polygons')"
      ]
     },
     "execution_count": 7,
     "metadata": {},
     "output_type": "execute_result"
    },
    {
     "data": {
      "image/png": "[encoded data removed]",
      "text/plain": [
       "<Figure size 432x288 with 1 Axes>"
      ]
     },
     "metadata": {
      "needs_background": "light"
     },
     "output_type": "display_data"
    }
   ],
   "source": [
    "fig,axe=plt.gcf(),plt.gca()\n",
    "\n",
    "\n",
    "# get morphology coordinates\n",
    "morphology_coords = np.array([ [n['x'],n['y']] for n in morphology.nodes()  ])\n",
    "\n",
    "for key,value in surface_and_layers.items():\n",
    "    \n",
    "    if key == \"layer_polygons\":\n",
    "        \n",
    "        for layer_dict in value:\n",
    "            \n",
    "            layer_polygon_coords = np.array(layer_dict['path']) * layer_dict['resolution']\n",
    "            layer_name = layer_dict['name']\n",
    "            \n",
    "            axe.plot(layer_polygon_coords[:,0],layer_polygon_coords[:,1],label=layer_name)\n",
    "            \n",
    "    else:\n",
    "        \n",
    "        polygon_label = key\n",
    "        polygon_coords = np.array(value['path']) * value['resolution']\n",
    "        axe.plot(polygon_coords[:,0],polygon_coords[:,1],label=polygon_label)\n",
    "\n",
    "axe.scatter(morphology_coords[:,0],morphology_coords[:,1],s=1,c='k',label='morphology')\n",
    "axe.legend(bbox_to_anchor=(1.0,0.5), loc=\"center left\")\n",
    "axe.invert_yaxis()\n",
    "axe.set_title(\"Example Morphology With Surface and Layer Polygons\")"
   ]
  },
  {
   "cell_type": "code",
   "execution_count": null,
   "metadata": {},
   "outputs": [],
   "source": []
  },
  {
   "cell_type": "code",
   "execution_count": null,
   "metadata": {},
   "outputs": [],
   "source": []
  },
  {
   "cell_type": "code",
   "execution_count": null,
   "metadata": {},
   "outputs": [],
   "source": []
  }
 ],
 "metadata": {
  "kernelspec": {
   "display_name": "Python [conda env:new_neuron_morph_no_bug]",
   "language": "python",
   "name": "conda-env-new_neuron_morph_no_bug-py"
  },
  "language_info": {
   "codemirror_mode": {
    "name": "ipython",
    "version": 3
   },
   "file_extension": ".py",
   "mimetype": "text/x-python",
   "name": "python",
   "nbconvert_exporter": "python",
   "pygments_lexer": "ipython3",
   "version": "3.6.10"
  }
 },
 "nbformat": 4,
 "nbformat_minor": 4
}
